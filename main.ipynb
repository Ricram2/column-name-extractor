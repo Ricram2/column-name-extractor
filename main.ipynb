{
 "cells": [
  {
   "cell_type": "code",
   "execution_count": 8,
   "metadata": {},
   "outputs": [],
   "source": [
    "import pandas as pd \n",
    "import csv\n",
    "import os\n",
    "import random"
   ]
  },
  {
   "cell_type": "code",
   "execution_count": 9,
   "metadata": {},
   "outputs": [],
   "source": [
    "datasets = []\n",
    "datasets_path = []\n",
    "df_step =[]\n",
    "df = []\n",
    "mydict = {}"
   ]
  },
  {
   "cell_type": "code",
   "execution_count": 10,
   "metadata": {},
   "outputs": [],
   "source": [
    "def compend_datasets_columns():\n",
    "    for subdir, dirs, files in os.walk(\"./DataSets/\"):\n",
    "        for filename in files:\n",
    "            filepath = subdir + os.sep + filename\n",
    "            if filepath.endswith(\".csv\"):\n",
    "                datasets.append(filename)\n",
    "                datasets_path.append(filepath)\n",
    "                \n",
    "    for i in range(len(datasets)):\n",
    "        df_step = pd.read_csv(datasets_path[i])\n",
    "       \n",
    "        for col in df_step.columns:\n",
    "            mydict[col] = df_step.at[0, col] , df_step.at[random.randrange(len(df_step.columns)), col], df_step.at[random.randrange(len(df_step.columns)), col] \n",
    "            \n",
    "    clear_array(datasets)\n",
    "    clear_array(datasets_path)\n",
    "\n",
    "    dataframe = pd.DataFrame.from_dict(mydict, orient='index')\n",
    "    dataframe = dataframe.rename(columns={'index':'name',0:'example1',1:'example2',2:'example3'})\n",
    "\n",
    "\n",
    "    return dataframe\n",
    "\n",
    "def clear_array(array):\n",
    "    array = []\n",
    "\n",
    "def export(dataframe):\n",
    "    dataframe.to_csv('compendium.csv', index=False)"
   ]
  },
  {
   "cell_type": "code",
   "execution_count": 11,
   "metadata": {},
   "outputs": [],
   "source": [
    "dataframe = compend_datasets_columns()\n",
    "export(dataframe)"
   ]
  },
  {
   "cell_type": "code",
   "execution_count": null,
   "metadata": {},
   "outputs": [],
   "source": []
  }
 ],
 "metadata": {
  "kernelspec": {
   "display_name": "Python 2",
   "language": "python",
   "name": "python2"
  },
  "language_info": {
   "codemirror_mode": {
    "name": "ipython",
    "version": 2
   },
   "file_extension": ".py",
   "mimetype": "text/x-python",
   "name": "python",
   "nbconvert_exporter": "python",
   "pygments_lexer": "ipython2",
   "version": "2.7.16"
  }
 },
 "nbformat": 4,
 "nbformat_minor": 2
}
